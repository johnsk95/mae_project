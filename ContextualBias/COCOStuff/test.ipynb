{
 "cells": [
  {
   "cell_type": "code",
   "execution_count": 1,
   "metadata": {},
   "outputs": [],
   "source": [
    "import pickle, time, glob, argparse\n",
    "import torch\n",
    "import numpy as np\n",
    "from PIL import Image"
   ]
  },
  {
   "cell_type": "code",
   "execution_count": 40,
   "metadata": {},
   "outputs": [],
   "source": [
    "# with open('labels_train.pkl', 'rb') as f:\n",
    "#     test = pickle.load(f)\n",
    "\n",
    "with open('humanlabels_to_onehot.pkl', 'rb') as f:\n",
    "    onehot = pickle.load(f)    "
   ]
  },
  {
   "cell_type": "code",
   "execution_count": 41,
   "metadata": {},
   "outputs": [
    {
     "data": {
      "text/plain": [
       "{'person': 0,\n",
       " 'bicycle': 1,\n",
       " 'car': 2,\n",
       " 'motorcycle': 3,\n",
       " 'airplane': 4,\n",
       " 'bus': 5,\n",
       " 'train': 6,\n",
       " 'truck': 7,\n",
       " 'boat': 8,\n",
       " 'traffic light': 9,\n",
       " 'fire hydrant': 10,\n",
       " 'stop sign': 11,\n",
       " 'parking meter': 12,\n",
       " 'bench': 13,\n",
       " 'bird': 14,\n",
       " 'cat': 15,\n",
       " 'dog': 16,\n",
       " 'horse': 17,\n",
       " 'sheep': 18,\n",
       " 'cow': 19,\n",
       " 'elephant': 20,\n",
       " 'bear': 21,\n",
       " 'zebra': 22,\n",
       " 'giraffe': 23,\n",
       " 'backpack': 24,\n",
       " 'umbrella': 25,\n",
       " 'handbag': 26,\n",
       " 'tie': 27,\n",
       " 'suitcase': 28,\n",
       " 'frisbee': 29,\n",
       " 'skis': 30,\n",
       " 'snowboard': 31,\n",
       " 'sports ball': 32,\n",
       " 'kite': 33,\n",
       " 'baseball bat': 34,\n",
       " 'baseball glove': 35,\n",
       " 'skateboard': 36,\n",
       " 'surfboard': 37,\n",
       " 'tennis racket': 38,\n",
       " 'bottle': 39,\n",
       " 'wine glass': 40,\n",
       " 'cup': 41,\n",
       " 'fork': 42,\n",
       " 'knife': 43,\n",
       " 'spoon': 44,\n",
       " 'bowl': 45,\n",
       " 'banana': 46,\n",
       " 'apple': 47,\n",
       " 'sandwich': 48,\n",
       " 'orange': 49,\n",
       " 'broccoli': 50,\n",
       " 'carrot': 51,\n",
       " 'hot dog': 52,\n",
       " 'pizza': 53,\n",
       " 'donut': 54,\n",
       " 'cake': 55,\n",
       " 'chair': 56,\n",
       " 'couch': 57,\n",
       " 'potted plant': 58,\n",
       " 'bed': 59,\n",
       " 'dining table': 60,\n",
       " 'toilet': 61,\n",
       " 'tv': 62,\n",
       " 'laptop': 63,\n",
       " 'mouse': 64,\n",
       " 'remote': 65,\n",
       " 'keyboard': 66,\n",
       " 'cell phone': 67,\n",
       " 'microwave': 68,\n",
       " 'oven': 69,\n",
       " 'toaster': 70,\n",
       " 'sink': 71,\n",
       " 'refrigerator': 72,\n",
       " 'book': 73,\n",
       " 'clock': 74,\n",
       " 'vase': 75,\n",
       " 'scissors': 76,\n",
       " 'teddy bear': 77,\n",
       " 'hair drier': 78,\n",
       " 'toothbrush': 79,\n",
       " 'banner': 80,\n",
       " 'blanket': 81,\n",
       " 'branch': 82,\n",
       " 'bridge': 83,\n",
       " 'building-other': 84,\n",
       " 'bush': 85,\n",
       " 'cabinet': 86,\n",
       " 'cage': 87,\n",
       " 'cardboard': 88,\n",
       " 'carpet': 89,\n",
       " 'ceiling-other': 90,\n",
       " 'ceiling-tile': 91,\n",
       " 'cloth': 92,\n",
       " 'clothes': 93,\n",
       " 'clouds': 94,\n",
       " 'counter': 95,\n",
       " 'cupboard': 96,\n",
       " 'curtain': 97,\n",
       " 'desk-stuff': 98,\n",
       " 'dirt': 99,\n",
       " 'door-stuff': 100,\n",
       " 'fence': 101,\n",
       " 'floor-marble': 102,\n",
       " 'floor-other': 103,\n",
       " 'floor-stone': 104,\n",
       " 'floor-tile': 105,\n",
       " 'floor-wood': 106,\n",
       " 'flower': 107,\n",
       " 'fog': 108,\n",
       " 'food-other': 109,\n",
       " 'fruit': 110,\n",
       " 'furniture-other': 111,\n",
       " 'grass': 112,\n",
       " 'gravel': 113,\n",
       " 'ground-other': 114,\n",
       " 'hill': 115,\n",
       " 'house': 116,\n",
       " 'leaves': 117,\n",
       " 'light': 118,\n",
       " 'mat': 119,\n",
       " 'metal': 120,\n",
       " 'mirror-stuff': 121,\n",
       " 'moss': 122,\n",
       " 'mountain': 123,\n",
       " 'mud': 124,\n",
       " 'napkin': 125,\n",
       " 'net': 126,\n",
       " 'paper': 127,\n",
       " 'pavement': 128,\n",
       " 'pillow': 129,\n",
       " 'plant-other': 130,\n",
       " 'plastic': 131,\n",
       " 'platform': 132,\n",
       " 'playingfield': 133,\n",
       " 'railing': 134,\n",
       " 'railroad': 135,\n",
       " 'river': 136,\n",
       " 'road': 137,\n",
       " 'rock': 138,\n",
       " 'roof': 139,\n",
       " 'rug': 140,\n",
       " 'salad': 141,\n",
       " 'sand': 142,\n",
       " 'sea': 143,\n",
       " 'shelf': 144,\n",
       " 'sky-other': 145,\n",
       " 'skyscraper': 146,\n",
       " 'snow': 147,\n",
       " 'solid-other': 148,\n",
       " 'stairs': 149,\n",
       " 'stone': 150,\n",
       " 'straw': 151,\n",
       " 'structural-other': 152,\n",
       " 'table': 153,\n",
       " 'tent': 154,\n",
       " 'textile-other': 155,\n",
       " 'towel': 156,\n",
       " 'tree': 157,\n",
       " 'vegetable': 158,\n",
       " 'wall-brick': 159,\n",
       " 'wall-concrete': 160,\n",
       " 'wall-other': 161,\n",
       " 'wall-panel': 162,\n",
       " 'wall-stone': 163,\n",
       " 'wall-tile': 164,\n",
       " 'wall-wood': 165,\n",
       " 'water-other': 166,\n",
       " 'waterdrops': 167,\n",
       " 'window-blind': 168,\n",
       " 'window-other': 169,\n",
       " 'wood': 170}"
      ]
     },
     "execution_count": 41,
     "metadata": {},
     "output_type": "execute_result"
    }
   ],
   "source": [
    "onehot"
   ]
  },
  {
   "cell_type": "code",
   "execution_count": 9,
   "metadata": {},
   "outputs": [
    {
     "data": {
      "text/plain": [
       "['Data/Coco/val2014/COCO_val2014_000000000042.jpg',\n",
       " 'Data/Coco/val2014/COCO_val2014_000000000073.jpg',\n",
       " 'Data/Coco/val2014/COCO_val2014_000000000074.jpg',\n",
       " 'Data/Coco/val2014/COCO_val2014_000000000133.jpg',\n",
       " 'Data/Coco/val2014/COCO_val2014_000000000136.jpg']"
      ]
     },
     "execution_count": 9,
     "metadata": {},
     "output_type": "execute_result"
    }
   ],
   "source": [
    "list(test.keys())[:5]"
   ]
  },
  {
   "cell_type": "code",
   "execution_count": 39,
   "metadata": {},
   "outputs": [
    {
     "data": {
      "text/plain": [
       "[tensor([0., 0., 0., 0., 0., 0., 0., 0., 0., 0., 0., 0., 0., 0., 0., 0., 0., 0.,\n",
       "         0., 0., 0., 0., 0., 0., 0., 0., 0., 0., 0., 0., 0., 0., 0., 0., 0., 0.,\n",
       "         0., 0., 0., 0., 0., 0., 0., 0., 0., 0., 0., 0., 0., 0., 0., 0., 0., 0.,\n",
       "         0., 0., 0., 0., 0., 0., 0., 0., 0., 0., 0., 0., 0., 0., 0., 0., 0., 0.,\n",
       "         0., 0., 0., 0., 0., 0., 0., 0., 0., 0., 0., 0., 0., 0., 0., 0., 0., 0.,\n",
       "         0., 0., 0., 0., 0., 0., 0., 0., 0., 0., 0., 0., 0., 0., 0., 0., 0., 0.,\n",
       "         1., 0., 0., 0., 0., 0., 0., 0., 0., 0., 0., 0., 0., 0., 0., 0., 0., 0.,\n",
       "         0., 0., 0., 0., 1., 0., 0., 0., 0., 0., 0., 0., 0., 0., 0., 0., 0., 0.,\n",
       "         0., 0., 0., 0., 0., 0., 0., 0., 1., 0., 0., 0., 0., 0., 0., 0., 0., 0.,\n",
       "         0., 0., 0., 0., 0., 0., 0., 0., 1.]),\n",
       " tensor([0., 0., 0., 0., 0., 0., 0., 0., 0., 0., 0., 0., 0., 0., 0., 0., 0., 0.,\n",
       "         0., 0., 0., 0., 0., 0., 0., 0., 0., 0., 0., 0., 0., 0., 0., 0., 0., 0.,\n",
       "         0., 0., 0., 0., 0., 0., 0., 0., 0., 0., 0., 0., 0., 0., 0., 0., 0., 0.,\n",
       "         0., 0., 0., 0., 0., 0., 0., 0., 0., 0., 0., 0., 0., 0., 0., 0., 0., 0.,\n",
       "         0., 0., 0., 0., 0., 0., 0., 0., 0., 0., 0., 0., 0., 0., 0., 0., 0., 0.,\n",
       "         0., 0., 0., 1., 0., 0., 0., 0., 0., 0., 0., 0., 0., 0., 0., 0., 0., 0.,\n",
       "         0., 0., 0., 1., 0., 1., 0., 0., 0., 0., 0., 0., 0., 0., 0., 0., 0., 0.,\n",
       "         0., 0., 0., 0., 0., 0., 0., 0., 0., 0., 0., 0., 0., 0., 0., 0., 0., 0.,\n",
       "         0., 0., 0., 0., 0., 0., 0., 0., 0., 0., 0., 0., 1., 0., 0., 0., 0., 0.,\n",
       "         0., 0., 0., 0., 0., 0., 0., 1., 1.]),\n",
       " tensor([0., 0., 0., 0., 0., 0., 0., 0., 0., 0., 0., 0., 0., 0., 0., 0., 0., 0.,\n",
       "         0., 0., 0., 0., 0., 0., 0., 0., 0., 0., 0., 0., 0., 0., 0., 0., 0., 0.,\n",
       "         0., 0., 0., 0., 0., 0., 0., 0., 0., 0., 0., 0., 0., 0., 0., 0., 0., 0.,\n",
       "         0., 0., 0., 0., 0., 0., 0., 0., 0., 0., 0., 0., 0., 0., 0., 0., 0., 0.,\n",
       "         0., 0., 0., 0., 0., 0., 0., 0., 0., 0., 0., 0., 0., 0., 0., 0., 0., 0.,\n",
       "         0., 0., 0., 0., 0., 0., 0., 0., 0., 0., 0., 0., 0., 0., 0., 0., 1., 0.,\n",
       "         0., 0., 0., 1., 0., 0., 0., 0., 0., 0., 0., 0., 0., 0., 0., 0., 0., 0.,\n",
       "         0., 0., 0., 1., 0., 0., 0., 0., 0., 0., 0., 0., 0., 0., 0., 0., 0., 0.,\n",
       "         0., 0., 0., 0., 0., 0., 0., 0., 0., 0., 0., 0., 0., 0., 0., 1., 0., 0.,\n",
       "         0., 0., 0., 0., 0., 0., 0., 0., 1.])]"
      ]
     },
     "execution_count": 39,
     "metadata": {},
     "output_type": "execute_result"
    }
   ],
   "source": [
    "list(test.values())[:3]  # multiple object annotations"
   ]
  },
  {
   "cell_type": "code",
   "execution_count": 32,
   "metadata": {},
   "outputs": [
    {
     "data": {
      "text/plain": [
       "0"
      ]
     },
     "execution_count": 32,
     "metadata": {},
     "output_type": "execute_result"
    }
   ],
   "source": [
    "onehot['person']"
   ]
  },
  {
   "cell_type": "code",
   "execution_count": 33,
   "metadata": {},
   "outputs": [],
   "source": [
    "for k, v in test.items():\n",
    "    if v[0]==1:\n",
    "        print(k)"
   ]
  }
 ],
 "metadata": {
  "kernelspec": {
   "display_name": "mae2",
   "language": "python",
   "name": "python3"
  },
  "language_info": {
   "codemirror_mode": {
    "name": "ipython",
    "version": 3
   },
   "file_extension": ".py",
   "mimetype": "text/x-python",
   "name": "python",
   "nbconvert_exporter": "python",
   "pygments_lexer": "ipython3",
   "version": "3.8.20"
  }
 },
 "nbformat": 4,
 "nbformat_minor": 2
}
